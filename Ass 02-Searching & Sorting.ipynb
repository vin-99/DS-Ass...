{
 "cells": [
  {
   "cell_type": "code",
   "execution_count": null,
   "id": "27547e38",
   "metadata": {},
   "outputs": [],
   "source": [
    "Implement Binary Search"
   ]
  },
  {
   "cell_type": "code",
   "execution_count": null,
   "id": "4542ca54",
   "metadata": {},
   "outputs": [],
   "source": [
    "def binary_search(arr, low, high, x):\n",
    "    # Check base case\n",
    "    if high >= low:\n",
    "        mid = (high + low) // 2\n",
    "        \n",
    "        \n",
    "        # If element is present at the middle itself\n",
    "        if arr[mid] == x:\n",
    "            return mid\n",
    "        \n",
    "        # If element is smaller than mid, then it can only\n",
    "        # be present in left subarray\n",
    "        elif arr[mid] > x:\n",
    "            return binary_search(arr, low, mid - 1, x)\n",
    "\n",
    "        # Else the element can only be present in right subarray\n",
    "        else:\n",
    "            return binary_search(arr, mid + 1, high, x)\n",
    "\n",
    "    else:\n",
    "        # Element is not present in the array\n",
    "        return -1\n",
    "\n",
    "# Test array\n",
    "arr = [ 2, 3, 4, 10, 40 ]\n",
    "x = 10\n",
    "\n",
    "# Function call\n",
    "result = binary_search(arr, 0, len(arr)-1, x)\n",
    "\n",
    "if result != -1:\n",
    "    print(\"Element is present at index\", str(result))\n",
    "else:\n",
    "    print(\"Element is not present in array\")\n"
   ]
  },
  {
   "cell_type": "code",
   "execution_count": null,
   "id": "8136a3b9",
   "metadata": {},
   "outputs": [],
   "source": [
    "2.Implement Merge Sort"
   ]
  },
  {
   "cell_type": "code",
   "execution_count": null,
   "id": "e8cd008e",
   "metadata": {},
   "outputs": [],
   "source": [
    "# Python program for implementation of MergeSort\n",
    "def mergeSort(arr):\n",
    "    if len(arr) > 1:\n",
    "\n",
    "# Finding the mid of the array\n",
    "        mid = len(arr)//2\n",
    "\n",
    "# Dividing the array elements\n",
    "        L = arr[:mid]\n",
    "\n",
    "# into 2 halves\n",
    "        R = arr[mid:]\n",
    "\n",
    "# Sorting the first half\n",
    "        mergeSort(L)\n",
    "\n",
    "# Sorting the second half\n",
    "        mergeSort(R)\n",
    "        i = j = k = 0\n",
    "\n",
    "# Copy data to temp arrays L[] and R[]\n",
    "        while i < len(L) and j < len(R):\n",
    "            if L[i] < R[j]:\n",
    "                arr[k] = L[i]\n",
    "                i += 1\n",
    "                else:\n",
    "                arr[k] = R[j]\n",
    "                j += 1\n",
    "                k += 1\n",
    "        # Checking if any element was left\n",
    "        while i < len(L):\n",
    "            arr[k] = L[i]\n",
    "            i += 1\n",
    "            k += 1\n",
    "        while j < len(R):\n",
    "            arr[k] = R[j]\n",
    "            j += 1\n",
    "            k += 1\n",
    "\n",
    "# Code to print the list\n",
    "def printList(arr):\n",
    "    for i in range(len(arr)):\n",
    "        print(arr[i], end=\" \")\n",
    "        print()\n",
    "\n",
    "\n",
    "# Driver Code\n",
    "if __name__ == '__main__':\n",
    "    arr = [12, 11, 13, 5, 6, 7]\n",
    "    print(\"Given array is\", end=\"\\n\")\n",
    "    printList(arr)\n",
    "    mergeSort(arr)\n",
    "    print(\"Sorted array is: \", end=\"\\n\")\n",
    "    printList(arr)\n"
   ]
  },
  {
   "cell_type": "code",
   "execution_count": null,
   "id": "7e42777f",
   "metadata": {},
   "outputs": [],
   "source": [
    "3.Implement Quick Sort"
   ]
  },
  {
   "cell_type": "code",
   "execution_count": null,
   "id": "aac3a191",
   "metadata": {},
   "outputs": [],
   "source": [
    "def partition(start, end, array):\n",
    "    pivot_index = start\n",
    "    pivot = array[pivot_index]\n",
    "\n",
    "    while start < end:\n",
    "\n",
    "        while start < len(array) and array[start] <= pivot:\n",
    "            start += 1\n",
    "\n",
    "        while array[end] > pivot:\n",
    "            end -= 1\n",
    "\n",
    "        if(start < end):\n",
    "            array[start], array[end] = array[end], array[start]\n",
    "\n",
    "# Swap pivot element with element on end pointer.\n",
    "# This puts pivot on its correct sorted place.\n",
    "    array[end], array[pivot_index] = array[pivot_index], array[end]\n",
    "\n",
    "# Returning end pointer to divide the array into 2\n",
    "    return end\n",
    "\n",
    "# The main function that implements QuickSort\n",
    "def quick_sort(start, end, array):\n",
    "    if (start < end):\n",
    "\n",
    "# p is partitioning index, array[p]\n",
    "# is at right place\n",
    "        p = partition(start, end, array)\n",
    "\n",
    "# Sort elements before partition\n",
    "# and after partition\n",
    "        quick_sort(start, p - 1, array)\n",
    "        quick_sort(p + 1, end, array)\n",
    "\n",
    "# Driver code\n",
    "array = [ 10, 7, 8, 9, 1, 5 ]\n",
    "quick_sort(0, len(array) - 1, array)\n",
    "\n",
    "print(f'Sorted array: {array}')"
   ]
  },
  {
   "cell_type": "code",
   "execution_count": null,
   "id": "372ae4fd",
   "metadata": {},
   "outputs": [],
   "source": [
    "4.Implement Insertion Sort"
   ]
  },
  {
   "cell_type": "code",
   "execution_count": null,
   "id": "89cc15bc",
   "metadata": {},
   "outputs": [],
   "source": [
    "def insertionSort(arr):\n",
    "    # Traverse through 1 to len(arr)\n",
    "    for i in range(1, len(arr)):\n",
    "        key = arr[i]\n",
    "        \n",
    "        j = i-1\n",
    "        while j >=0 and key < arr[j] :\n",
    "            arr[j+1] = arr[j]\n",
    "            j -= 1\n",
    "            arr[j+1] = key\n",
    "\n",
    "\n",
    "# Driver code \n",
    "arr = [12, 11, 13, 5, 6]\n",
    "insertionSort(arr)\n",
    "print (\"Sorted array is:\")\n",
    "for i in range(len(arr)):\n",
    "    print (\"%d\" %arr[i])"
   ]
  },
  {
   "cell_type": "code",
   "execution_count": null,
   "id": "a968fe02",
   "metadata": {},
   "outputs": [],
   "source": [
    "5.Write a program to sort list of strings (similar to that of dictionary)"
   ]
  },
  {
   "cell_type": "code",
   "execution_count": 2,
   "id": "66cf2993",
   "metadata": {},
   "outputs": [
    {
     "name": "stdout",
     "output_type": "stream",
     "text": [
      "The original list is : ['Apple', 'is', 'best']\n",
      "The original dictionary is : {'Apple': 56, 'is': 12, 'best': 76}\n",
      "The list after sorting : ['is', 'Apple', 'best']\n"
     ]
    }
   ],
   "source": [
    "test_list = ['Apple', 'is', 'best']\n",
    "\n",
    "test_dict = {'Apple' : 56, 'is' : 12, 'best' : 76}\n",
    "\n",
    "print(\"The original list is : \" + str(test_list))\n",
    "\n",
    "print(\"The original dictionary is : \" + str(test_dict))\n",
    "\n",
    "res = sorted(test_list, key = lambda ele: test_dict[ele])\n",
    "\n",
    "print(\"The list after sorting : \" + str(res))\n"
   ]
  },
  {
   "cell_type": "code",
   "execution_count": null,
   "id": "e71429e7",
   "metadata": {},
   "outputs": [],
   "source": []
  }
 ],
 "metadata": {
  "kernelspec": {
   "display_name": "Python 3 (ipykernel)",
   "language": "python",
   "name": "python3"
  },
  "language_info": {
   "codemirror_mode": {
    "name": "ipython",
    "version": 3
   },
   "file_extension": ".py",
   "mimetype": "text/x-python",
   "name": "python",
   "nbconvert_exporter": "python",
   "pygments_lexer": "ipython3",
   "version": "3.10.0"
  }
 },
 "nbformat": 4,
 "nbformat_minor": 5
}
